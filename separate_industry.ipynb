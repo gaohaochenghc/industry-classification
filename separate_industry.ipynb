{
 "nbformat": 4,
 "nbformat_minor": 2,
 "metadata": {
  "language_info": {
   "name": "python",
   "codemirror_mode": {
    "name": "ipython",
    "version": 3
   },
   "version": "3.6.10-final"
  },
  "orig_nbformat": 2,
  "file_extension": ".py",
  "mimetype": "text/x-python",
  "name": "python",
  "npconvert_exporter": "python",
  "pygments_lexer": "ipython3",
  "version": 3,
  "kernelspec": {
   "name": "python3",
   "display_name": "Python 3"
  }
 },
 "cells": [
  {
   "cell_type": "markdown",
   "execution_count": null,
   "metadata": {},
   "outputs": [],
   "source": [
    "# Leveraging the Word vec Result to clustering\n",
    "### Classify industries according to BERT result"
   ]
  },
  {
   "cell_type": "code",
   "execution_count": 9,
   "metadata": {},
   "outputs": [],
   "source": [
    "import pandas as pd\n",
    "import numpy as np\n",
    "from sklearn.cluster import KMeans"
   ]
  },
  {
   "cell_type": "code",
   "execution_count": 10,
   "metadata": {},
   "outputs": [],
   "source": [
    "file=eval(open('company dic i.txt').read())\n",
    "comp_corr=dict(file)"
   ]
  },
  {
   "cell_type": "code",
   "execution_count": 11,
   "metadata": {},
   "outputs": [],
   "source": [
    "company_index=dict()\n",
    "max_num=len(comp_corr)\n",
    "cov_matrix=np.matrix(np.zeros((1,max_num)))\n",
    "count=0\n",
    "for index in comp_corr:\n",
    "    company_index[count]=index\n",
    "    count+=1\n",
    "    cov_matrix=np.vstack((cov_matrix,np.matrix(list(comp_corr[index].values()))))\n",
    "cov_matrix=np.delete(cov_matrix,0,axis=0)"
   ]
  },
  {
   "cell_type": "code",
   "execution_count": 12,
   "metadata": {},
   "outputs": [],
   "source": [
    "#query all company in the same industry\n",
    "def query_ind(index):\n",
    "    if type(company_index[index])==type('a'):\n",
    "        yield index\n",
    "    else:\n",
    "        sub_index=company_index[index]\n",
    "        for i in sub_index:\n",
    "            for j in query_ind(i):\n",
    "                yield j\n",
    "\n",
    "# sum correlation\n",
    "def sum_corr_func(index1,index2):\n",
    "    return cov_matrix_enlarge[index1,index2]\n",
    "\n",
    "# set the corr of companies within the same industry to 1\n",
    "def elim_corr(comp_list):\n",
    "    for i in comp_list:\n",
    "        cov_matrix_enlarge[i,:]=0\n",
    "        cov_matrix_enlarge[:,i]=0"
   ]
  },
  {
   "cell_type": "code",
   "execution_count": 30,
   "metadata": {},
   "outputs": [],
   "source": [
    "cov_matrix_enlarge=np.copy(cov_matrix)\n",
    "set_num_counter=list(range(max_num))\n",
    "cur_num=max_num\n",
    "exempt_set=set()\n",
    "record_dummy = -1\n",
    "while len(set(set_num_counter))>25:\n",
    "    # get minimun correlation in the matrix\n",
    "    min_pair=cov_matrix_enlarge.argmax()\n",
    "    row=min_pair//cov_matrix_enlarge.shape[0]\n",
    "    col=min_pair%cov_matrix_enlarge.shape[0]\n",
    "    company_index[cur_num]=[row,col]\n",
    "    if row == col:\n",
    "        cov_matrix_enlarge[row, col] = 0\n",
    "        continue\n",
    "    cur_num+=1\n",
    "    # calculate the new generated industry correlation with other companies\n",
    "    ind_comp_list=[i for i in query_ind(row)]+[i for i in query_ind(col)]\n",
    "    for i in ind_comp_list:\n",
    "        exempt_set.add(i)\n",
    "    exempt_set.add(row)\n",
    "    exempt_set.add(col)\n",
    "    new_corr=[]\n",
    "    for iter_company in range(cov_matrix_enlarge.shape[1]):\n",
    "        if_exempt=iter_company in exempt_set\n",
    "        if (iter_company>=max_num) and (not if_exempt):\n",
    "            iter_comp_com=[i for i in query_ind(iter_company)]\n",
    "            sum_corr=sum([cov_matrix[i,j] for i in iter_comp_com for j in ind_comp_list])/(len(iter_comp_com)*len(ind_comp_list))**1.05\n",
    "        elif not if_exempt:\n",
    "            sum_corr=sum([sum_corr_func(i1,iter_company) for i1 in ind_comp_list])/len(ind_comp_list)\n",
    "        else:\n",
    "            sum_corr=0\n",
    "        new_corr.append(sum_corr)\n",
    "    cov_matrix_enlarge=np.vstack((cov_matrix_enlarge,np.matrix(new_corr)))\n",
    "    cov_matrix_enlarge=np.hstack((cov_matrix_enlarge,np.transpose(np.matrix(new_corr+[0]))))\n",
    "    # set the corr within the same industry to 1\n",
    "    elim_corr(ind_comp_list)\n",
    "    elim_corr([row,col])\n",
    "    # record the companies that have been categorized\n",
    "    for i in ind_comp_list:\n",
    "        set_num_counter[i]=record_dummy\n",
    "    record_dummy -= 1"
   ]
  },
  {
   "cell_type": "code",
   "execution_count": 31,
   "metadata": {},
   "outputs": [
    {
     "name": "stdout",
     "output_type": "stream",
     "text": "{'600438.SH', '600025.SH', '600674.SH', '601985.SH', '600068.SH', '600023.SH', '600027.SH', '600011.SH', '600795.SH', '600886.SH', '600900.SH'}\n{'002422.SZ', '600887.SH', '600519.SH', '600276.SH', '603288.SH', '600809.SH', '002304.SZ', '000858.SZ', '000596.SZ', '000423.SZ', '000568.SZ', '603156.SH'}\n{'000001.SZ', '601328.SH', '601998.SH', '601838.SH', '600036.SH', '601169.SH', '600015.SH', '601818.SH', '601398.SH', '600919.SH', '600016.SH', '600000.SH', '601288.SH', '601166.SH', '601229.SH', '600926.SH', '601997.SH', '601009.SH', '600928.SH', '002958.SZ', '601988.SH', '002142.SZ', '601939.SH', '601577.SH'}\n{'002475.SZ', '603986.SH', '000413.SZ', '000938.SZ', '000725.SZ', '002916.SZ', '300408.SZ', '603501.SH', '600703.SH', '601012.SH', '002179.SZ', '002938.SZ'}\n{'600398.SH', '002027.SZ', '002230.SZ', '002607.SZ', '600588.SH', '601828.SH'}\n{'600535.SH', '600085.SH', '600998.SH', '002773.SZ', '000661.SZ', '600606.SH', '002411.SZ', '600436.SH', '000538.SZ'}\n{'600221.SH', '600066.SH', '600029.SH', '600115.SH', '601021.SH', '600004.SH', '601111.SH', '601006.SH'}\n{'600038.SH', '000768.SZ', '000651.SZ', '600760.SH', '600372.SH'}\n{'002714.SZ', '002032.SZ', '600346.SH', '600299.SH', '002236.SZ', '601877.SH', '600547.SH', '603899.SH', '601607.SH', '601216.SH', '000100.SZ', '000963.SZ', '600332.SH', '002202.SZ', '002081.SZ', '002024.SZ', '300122.SZ', '002007.SZ'}\n{'600369.SH', '600030.SH', '600999.SH', '601881.SH', '002673.SZ', '601066.SH', '601555.SH', '600816.SH', '600837.SH', '601901.SH', '600390.SH', '000776.SZ', '600109.SH', '601788.SH', '000166.SZ', '601878.SH', '000783.SZ', '601198.SH', '601377.SH', '601108.SH', '601211.SH', '600958.SH', '601236.SH', '601162.SH', '000728.SZ', '002736.SZ', '002945.SZ', '601688.SH', '002939.SZ', '300059.SZ'}\n{'600968.SH', '600893.SH', '601600.SH', '601888.SH', '601018.SH', '600018.SH', '600118.SH', '601989.SH', '601919.SH', '600487.SH', '300070.SZ', '601298.SH', '600188.SH', '601808.SH', '600583.SH'}\n{'000625.SZ', '000425.SZ', '600031.SH', '002415.SZ', '600660.SH', '600733.SH', '601766.SH', '000157.SZ', '600741.SH', '002594.SZ', '002050.SZ', '601238.SH', '600104.SH', '000338.SZ', '300433.SZ'}\n{'600848.SH', '600570.SH', '600177.SH', '601992.SH', '601633.SH', '600208.SH', '600048.SH', '601155.SH', '600383.SH', '002146.SZ', '000069.SZ', '600655.SH', '000002.SZ', '600663.SH', '600297.SH', '000671.SZ', '000961.SZ', '000656.SZ'}\n{'601336.SH', '601601.SH', '601628.SH', '000627.SZ', '601318.SH', '600705.SH', '600061.SH', '600566.SH', '601319.SH'}\n{'002456.SZ', '002508.SZ', '600690.SH', '603833.SH', '000333.SZ', '603160.SH'}\n{'002460.SZ', '603993.SH', '601212.SH', '603260.SH', '002466.SZ', '002493.SZ', '603799.SH', '600362.SH', '600352.SH', '000630.SZ', '000629.SZ', '002601.SZ'}\n{'000876.SZ', '000895.SZ', '300498.SZ', '002311.SZ', '600522.SH', '601933.SH', '300003.SZ', '002001.SZ', '000703.SZ'}\n{'601668.SH', '600153.SH', '601800.SH', '002410.SZ', '601669.SH', '600170.SH', '601390.SH', '601618.SH', '601117.SH', '601186.SH', '600340.SH', '001979.SZ'}\n{'002624.SZ', '002739.SZ', '600637.SH', '002555.SZ', '600977.SH', '002602.SZ', '300144.SZ', '002558.SZ', '300413.SZ'}\n{'600516.SH', '601899.SH', '600176.SH', '600989.SH', '600585.SH', '600219.SH', '002271.SZ', '000898.SZ', '000723.SZ', '000709.SZ', '000786.SZ', '600019.SH', '600183.SH', '002010.SZ', '600010.SH'}\n{'600050.SH', '601360.SH', '002841.SZ', '600100.SH', '601698.SH', '300136.SZ', '600498.SH', '000063.SZ', '300033.SZ'}\n{'300024.SZ', '601727.SH', '600406.SH', '600089.SH', '300124.SZ', '002008.SZ', '002241.SZ', '603019.SH', '601138.SH'}\n{'000415.SZ', '002468.SZ', '002120.SZ', '600009.SH', '300017.SZ', '600233.SH', '002044.SZ', '002352.SZ'}\n{'300347.SZ', '600271.SH', '600196.SH', '600867.SH', '002153.SZ', '603259.SH', '002252.SZ', '300015.SZ', '300142.SZ'}\n{'600489.SH', '002294.SZ', '601088.SH', '600111.SH', '600309.SH', '601857.SH', '601225.SH', '601898.SH', '600028.SH'}\n"
    }
   ],
   "source": [
    "# show the result\n",
    "ind_dict=dict()\n",
    "for i in set(set_num_counter):\n",
    "    ind_dict[i]=set()\n",
    "for i in range(len(set_num_counter)):\n",
    "    ind_dict[set_num_counter[i]].add(company_index[i])\n",
    "for i in ind_dict:\n",
    "    print(ind_dict[i])"
   ]
  },
  {
   "cell_type": "markdown",
   "metadata": {},
   "source": [
    "### Official classification"
   ]
  },
  {
   "cell_type": "code",
   "execution_count": 15,
   "metadata": {},
   "outputs": [
    {
     "data": {
      "text/html": "<div>\n<style scoped>\n    .dataframe tbody tr th:only-of-type {\n        vertical-align: middle;\n    }\n\n    .dataframe tbody tr th {\n        vertical-align: top;\n    }\n\n    .dataframe thead th {\n        text-align: right;\n    }\n</style>\n<table border=\"1\" class=\"dataframe\">\n  <thead>\n    <tr style=\"text-align: right;\">\n      <th></th>\n      <th>股票代码</th>\n      <th>主营行业</th>\n    </tr>\n  </thead>\n  <tbody>\n    <tr>\n      <th>299</th>\n      <td>000001</td>\n      <td>金融</td>\n    </tr>\n    <tr>\n      <th>298</th>\n      <td>000002</td>\n      <td>房地产</td>\n    </tr>\n    <tr>\n      <th>297</th>\n      <td>000063</td>\n      <td>信息技术</td>\n    </tr>\n    <tr>\n      <th>296</th>\n      <td>000069</td>\n      <td>房地产</td>\n    </tr>\n    <tr>\n      <th>295</th>\n      <td>000100</td>\n      <td>家电</td>\n    </tr>\n    <tr>\n      <th>...</th>\n      <td>...</td>\n      <td>...</td>\n    </tr>\n    <tr>\n      <th>4</th>\n      <td>603799</td>\n      <td>有色金属</td>\n    </tr>\n    <tr>\n      <th>3</th>\n      <td>603833</td>\n      <td>其他</td>\n    </tr>\n    <tr>\n      <th>2</th>\n      <td>603899</td>\n      <td>轻工制造</td>\n    </tr>\n    <tr>\n      <th>1</th>\n      <td>603986</td>\n      <td>电子设备</td>\n    </tr>\n    <tr>\n      <th>0</th>\n      <td>603993</td>\n      <td>有色金属</td>\n    </tr>\n  </tbody>\n</table>\n<p>300 rows × 2 columns</p>\n</div>",
      "text/plain": "       股票代码  主营行业\n299  000001    金融\n298  000002   房地产\n297  000063  信息技术\n296  000069   房地产\n295  000100    家电\n..      ...   ...\n4    603799  有色金属\n3    603833    其他\n2    603899  轻工制造\n1    603986  电子设备\n0    603993  有色金属\n\n[300 rows x 2 columns]"
     },
     "execution_count": 15,
     "metadata": {},
     "output_type": "execute_result"
    }
   ],
   "source": [
    "official_class=pd.read_csv(\"hs300_official_class.csv\")\n",
    "official_class['股票代码']=official_class['股票代码'].map(lambda x:'0'*(6-len(str(x)))+str(x))\n",
    "official_class.sort_values(by='股票代码',inplace=True)\n",
    "official_class"
   ]
  },
  {
   "cell_type": "code",
   "execution_count": 17,
   "metadata": {},
   "outputs": [
    {
     "data": {
      "text/plain": "25"
     },
     "execution_count": 17,
     "metadata": {},
     "output_type": "execute_result"
    }
   ],
   "source": [
    "official_class[official_class['主营行业']=='交运设备']\n",
    "len(official_class.groupby('主营行业').groups)"
   ]
  },
  {
   "cell_type": "markdown",
   "metadata": {},
   "source": [
    "### Comparable Model: k-means"
   ]
  },
  {
   "cell_type": "code",
   "execution_count": 32,
   "metadata": {},
   "outputs": [],
   "source": [
    "# another comparable model: k-means model\n",
    "estimator=KMeans(n_clusters=25)\n",
    "estimator.fit(cov_matrix)\n",
    "label_pred=estimator.labels_\n",
    "centroids=estimator.cluster_centers_\n",
    "inertia=estimator.inertia_"
   ]
  },
  {
   "cell_type": "code",
   "execution_count": 43,
   "metadata": {},
   "outputs": [
    {
     "name": "stdout",
     "output_type": "stream",
     "text": "{'600398.SH', '603993.SH', '002271.SZ', '300498.SZ', '000898.SZ', '601877.SH', '600276.SH', '600547.SH', '002773.SZ', '000568.SZ', '601933.SH', '000786.SZ', '002411.SZ', '002202.SZ', '600585.SH', '002252.SZ', '002010.SZ', '000538.SZ', '002007.SZ'}\n{'300347.SZ', '601360.SH', '600196.SH', '002624.SZ', '600118.SH', '601989.SH', '600100.SH', '600867.SH', '000661.SZ', '601919.SH', '300003.SZ', '000338.SZ', '300433.SZ', '300144.SZ', '002607.SZ', '002558.SZ'}\n{'600369.SH', '600030.SH', '600999.SH', '002673.SZ', '601066.SH', '601555.SH', '600816.SH', '600837.SH', '601901.SH', '600390.SH', '000776.SZ', '600109.SH', '601788.SH', '000166.SZ', '000783.SZ', '601198.SH', '601377.SH', '601108.SH', '601211.SH', '600958.SH', '601236.SH', '601162.SH', '000728.SZ', '002736.SZ', '601688.SH', '300059.SZ', '601577.SH'}\n{'000001.SZ', '601328.SH', '601998.SH', '601838.SH', '600036.SH', '601169.SH', '600015.SH', '601818.SH', '601398.SH', '600919.SH', '600016.SH', '600000.SH', '601288.SH', '601166.SH', '601229.SH', '600926.SH', '601997.SH', '601009.SH', '600928.SH', '002958.SZ', '601988.SH', '002142.SZ', '601939.SH'}\n{'600038.SH', '000768.SZ', '600760.SH', '600372.SH'}\n{'600438.SH', '000625.SZ', '002294.SZ', '600066.SH', '000627.SZ', '600733.SH', '002466.SZ', '002493.SZ', '600309.SH', '600104.SH', '600111.SH', '603799.SH', '000630.SZ'}\n{'600968.SH', '000938.SZ', '000425.SZ', '600570.SH', '600031.SH', '600535.SH', '600085.SH', '600998.SH', '002027.SZ', '000157.SZ', '600741.SH', '600023.SH', '600436.SH', '601633.SH', '601808.SH'}\n{'600489.SH', '600028.SH', '600674.SH', '601985.SH', '601088.SH', '600027.SH', '600011.SH', '600795.SH', '600886.SH', '601857.SH', '601898.SH', '600900.SH'}\n{'002120.SZ', '600177.SH', '601992.SH', '601727.SH', '601390.SH', '601766.SH', '002236.SZ', '601018.SH', '601238.SH', '000100.SZ', '600297.SH', '600004.SH', '002024.SZ'}\n{'002422.SZ', '600299.SH', '600660.SH', '600009.SH', '000876.SZ', '600887.SH', '603899.SH', '002044.SZ', '002594.SZ', '601607.SH', '000963.SZ', '002311.SZ', '600332.SH', '600362.SH', '002001.SZ', '300122.SZ', '000415.SZ', '002081.SZ'}\n{'603986.SH', '000413.SZ', '300408.SZ', '000725.SZ', '002916.SZ', '600183.SH', '601012.SH', '600498.SH', '002179.SZ', '002241.SZ', '603019.SH', '300015.SZ', '002938.SZ'}\n{'601336.SH', '601601.SH', '601628.SH', '601318.SH', '600705.SH', '601319.SH'}\n{'601111.SH', '002352.SZ', '601021.SH'}\n{'601899.SH', '002714.SZ', '601212.SH', '002032.SZ', '600219.SH', '600989.SH', '600519.SH', '000858.SZ', '603288.SH', '600809.SH', '002304.SZ', '000709.SZ', '000596.SZ', '000423.SZ', '603156.SH', '603260.SH', '600352.SH', '601225.SH', '600010.SH', '002601.SZ'}\n{'002945.SZ', '601878.SH', '601155.SH', '002939.SZ', '601881.SH', '600061.SH'}\n{'002460.SZ', '600566.SH', '000651.SZ'}\n{'002456.SZ', '603160.SH', '002841.SZ', '300142.SZ'}\n{'002475.SZ', '300024.SZ', '600893.SH', '603501.SH', '600703.SH', '600487.SH', '600406.SH', '300070.SZ', '300136.SZ', '603259.SH', '002008.SZ', '002153.SZ', '600583.SH'}\n{'600516.SH', '601600.SH', '600176.SH', '600346.SH', '000895.SZ', '000723.SZ', '002050.SZ', '601216.SH', '600188.SH', '000629.SZ'}\n{'002410.SZ', '601669.SH', '600170.SH', '601618.SH', '600068.SH', '601117.SH', '601186.SH'}\n{'600025.SH', '600221.SH', '600029.SH', '600115.SH', '601006.SH'}\n{'600848.SH', '600153.SH', '601668.SH', '601800.SH', '601888.SH', '600271.SH', '600655.SH', '600663.SH', '601298.SH', '600606.SH', '000961.SZ', '600340.SH', '001979.SZ', '601828.SH'}\n{'002468.SZ', '002508.SZ', '600018.SH', '002739.SZ', '600233.SH', '600522.SH', '600690.SH', '600089.SH', '300124.SZ', '603833.SH', '600019.SH', '000333.SZ', '000703.SZ'}\n{'600050.SH', '002415.SZ', '300017.SZ', '002555.SZ', '600637.SH', '002230.SZ', '601698.SH', '600977.SH', '002602.SZ', '300413.SZ', '000063.SZ', '300033.SZ', '600588.SH', '601138.SH'}\n{'600048.SH', '600208.SH', '002146.SZ', '600383.SH', '000069.SZ', '000002.SZ', '000671.SZ', '000656.SZ'}\n"
    }
   ],
   "source": [
    "kmeans_dict=dict()\n",
    "for i in range(25):\n",
    "    kmeans_dict[i]=set()\n",
    "for ind in range(max_num):\n",
    "    kmeans_dict[label_pred[ind]].add(company_index[ind])\n",
    "for i in kmeans_dict:\n",
    "    print(kmeans_dict[i])"
   ]
  },
  {
   "cell_type": "code",
   "execution_count": null,
   "metadata": {},
   "outputs": [],
   "source": []
  }
 ]
}